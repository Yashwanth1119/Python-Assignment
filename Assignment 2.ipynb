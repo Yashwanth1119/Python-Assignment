{
 "cells": [
  {
   "cell_type": "markdown",
   "metadata": {},
   "source": [
    "## *Python Assignment 2*"
   ]
  },
  {
   "cell_type": "markdown",
   "metadata": {},
   "source": [
    "1. Create the below pattern using nested for loop in Python.\n"
   ]
  },
  {
   "cell_type": "raw",
   "metadata": {},
   "source": [
    "*\n",
    "* *\n",
    "* * *\n",
    "* * * *\n",
    "* * *\n",
    "* *\n",
    "*"
   ]
  },
  {
   "cell_type": "code",
   "execution_count": 3,
   "metadata": {},
   "outputs": [
    {
     "name": "stdout",
     "output_type": "stream",
     "text": [
      "enter the no. of rows: 4\n",
      " * \n",
      " *  * \n",
      " *  *  * \n",
      " *  *  *  * \n",
      " *  *  * \n",
      " *  * \n",
      " * \n",
      "\n"
     ]
    }
   ],
   "source": [
    "# right pascal triangle star pattern\n",
    "def pattern(n):\n",
    "    for i in range(n):\n",
    "        print(' * ' * (i+1))\n",
    "    for i in range(n):\n",
    "        print(' * ' * (n-i-1))\n",
    "        \n",
    "n = int(input('enter the no. of rows: '))\n",
    "\n",
    "pattern(n)"
   ]
  },
  {
   "cell_type": "markdown",
   "metadata": {},
   "source": [
    "2. Write a Python program to reverse a word after accepting the input from the user"
   ]
  },
  {
   "cell_type": "code",
   "execution_count": 4,
   "metadata": {},
   "outputs": [
    {
     "name": "stdout",
     "output_type": "stream",
     "text": [
      "enter a word: ineuron\n",
      "norueni\n",
      "\n"
     ]
    }
   ],
   "source": [
    "word = input(\"enter a word: \")\n",
    "\n",
    "for char in range(len(word) -1, -1, -1):\n",
    "    print(word[char], end=\"\")\n",
    "print(\"\\n\")"
   ]
  },
  {
   "cell_type": "code",
   "execution_count": null,
   "metadata": {},
   "outputs": [],
   "source": []
  }
 ],
 "metadata": {
  "kernelspec": {
   "display_name": "Python 3",
   "language": "python",
   "name": "python3"
  },
  "language_info": {
   "codemirror_mode": {
    "name": "ipython",
    "version": 3
   },
   "file_extension": ".py",
   "mimetype": "text/x-python",
   "name": "python",
   "nbconvert_exporter": "python",
   "pygments_lexer": "ipython3",
   "version": "3.7.6"
  }
 },
 "nbformat": 4,
 "nbformat_minor": 4
}
